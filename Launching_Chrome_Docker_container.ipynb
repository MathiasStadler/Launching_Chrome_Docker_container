{
 "cells": [
  {
   "cell_type": "markdown",
   "metadata": {},
   "source": [
    "# Launching_Chrome_Docker_container"
   ]
  },
  {
   "cell_type": "markdown",
   "metadata": {},
   "source": [
    "[FROM HERE](https://thespecguy.medium.com/launching-google-chrome-on-docker-container-a7dc2ba2d5)"
   ]
  },
  {
   "cell_type": "markdown",
   "metadata": {},
   "source": [
    "# How to check the disk usage of all running Docker containers?"
   ]
  },
  {
   "cell_type": "markdown",
   "metadata": {},
   "source": [
    "# overall"
   ]
  },
  {
   "cell_type": "markdown",
   "metadata": {},
   "source": [
    "```\n",
    "docker system df\n",
    "```"
   ]
  },
  {
   "cell_type": "markdown",
   "metadata": {},
   "source": [
    "# container size"
   ]
  },
  {
   "cell_type": "markdown",
   "metadata": {},
   "source": [
    "``` docker ps –s ```\n",
    "## long form\n",
    "``` docker ps –-size ```"
   ]
  },
  {
   "cell_type": "markdown",
   "metadata": {},
   "source": [
    "# build container"
   ]
  },
  {
   "cell_type": "code",
   "execution_count": null,
   "metadata": {
    "vscode": {
     "languageId": "shellscript"
    }
   },
   "outputs": [],
   "source": [
    "docker build . -t my_ubuntu_chrome -f ./src/DOCKERFILE_ubuntu_chrome"
   ]
  },
  {
   "cell_type": "code",
   "execution_count": null,
   "metadata": {
    "vscode": {
     "languageId": "shellscript"
    }
   },
   "outputs": [],
   "source": [
    "docker build . -t my_ubuntu_chrome -f ./src/DOCKERFILE_ubuntu_chrome"
   ]
  },
  {
   "cell_type": "markdown",
   "metadata": {},
   "source": [
    "# start google-chrome out of container"
   ]
  },
  {
   "cell_type": "markdown",
   "metadata": {},
   "source": [
    "```\n",
    "docker run -it -e DISPLAY=:0 -v /tmp/.X11-unix:/tmp/.X11-unix -- chrome <URL>\n",
    "```\n",
    "docker run --rm -d  my_chrome_ubuntu:latest\n",
    "\n",
    "sudo docker run -it -e DISPLAY=:0 -v /tmp/.X11-unix:/tmp/.X11-unix --rm -d  my_chrome_ubuntu:latest -- https://www.heise.de\n",
    "\n",
    "docker run -it -e DISPLAY=:0 -v /tmp/.X11-unix:/tmp/.X11-unix --rm -d  chrome_ubuntu:latest\n",
    "\n",
    "docker run --rm -d  -e DISPLAY=:0 -v /tmp/.X11-unix:/tmp/.X11-unix --rm -d  chrome_ubuntu:latest -- ls -l"
   ]
  },
  {
   "cell_type": "markdown",
   "metadata": {},
   "source": [
    "# works"
   ]
  },
  {
   "cell_type": "code",
   "execution_count": null,
   "metadata": {
    "vscode": {
     "languageId": "shellscript"
    }
   },
   "outputs": [],
   "source": [
    "export DISPLAY=:0;\n",
    "xhost +;\n",
    "docker run --rm -it  -e DISPLAY=:0 -v /tmp/.X11-unix:/tmp/.X11-unix docker_chrome_23_10:latest"
   ]
  }
 ],
 "metadata": {
  "kernelspec": {
   "display_name": "Bash",
   "language": "bash",
   "name": "bash"
  },
  "language_info": {
   "name": "bash"
  }
 },
 "nbformat": 4,
 "nbformat_minor": 2
}
