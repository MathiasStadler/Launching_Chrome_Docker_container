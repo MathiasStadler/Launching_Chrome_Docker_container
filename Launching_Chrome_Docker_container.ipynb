{
 "cells": [
  {
   "cell_type": "markdown",
   "metadata": {},
   "source": [
    "# Launching_Chrome_Docker_container"
   ]
  },
  {
   "cell_type": "markdown",
   "metadata": {},
   "source": [
    "[FROM HERE](https://thespecguy.medium.com/launching-google-chrome-on-docker-container-a7dc2ba2d5)"
   ]
  },
  {
   "cell_type": "markdown",
   "metadata": {},
   "source": [
    "# How to check the disk usage of all running Docker containers?"
   ]
  },
  {
   "cell_type": "markdown",
   "metadata": {},
   "source": [
    "# overall"
   ]
  },
  {
   "cell_type": "markdown",
   "metadata": {},
   "source": [
    "```\n",
    "docker system df\n",
    "```"
   ]
  },
  {
   "cell_type": "markdown",
   "metadata": {},
   "source": [
    "# container size"
   ]
  },
  {
   "cell_type": "markdown",
   "metadata": {},
   "source": [
    "``` docker ps –s ```\n",
    "## long form\n",
    "``` docker ps –-size ```"
   ]
  },
  {
   "cell_type": "markdown",
   "metadata": {},
   "source": [
    "# start google-chrome out of container"
   ]
  },
  {
   "cell_type": "markdown",
   "metadata": {},
   "source": [
    "```\n",
    "docker run -it -e DISPLAY=:0 -v /tmp/.X11-unix:/tmp/.X11-unix -- chrome <URL>\n",
    "```\n",
    "docker run --rm -d  chrome_ubuntu:latest\n",
    "\n",
    "docker run -it -e DISPLAY=:0 -v /tmp/.X11-unix:/tmp/.X11-unix --rm -d  chrome_ubuntu:latest\n",
    "\n",
    "docker run -it -e DISPLAY=:0 -v /tmp/.X11-unix:/tmp/.X11-unix --rm -d  chrome_ubuntu:latest\n",
    "\n",
    "docker run --rm -d  -e DISPLAY=:0 -v /tmp/.X11-unix:/tmp/.X11-unix --rm -d  chrome_ubuntu:latest -- ls -l"
   ]
  }
 ],
 "metadata": {
  "kernelspec": {
   "display_name": "Rust",
   "language": "rust",
   "name": "rust"
  },
  "language_info": {
   "name": "rust"
  }
 },
 "nbformat": 4,
 "nbformat_minor": 2
}
